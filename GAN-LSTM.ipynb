{
 "cells": [
  {
   "cell_type": "code",
   "execution_count": 12,
   "metadata": {},
   "outputs": [],
   "source": [
    "import mido\n",
    "from mido import MidiFile, MidiTrack, Message\n",
    "from keras.layers import LSTM, Dense, Activation, Dropout, Flatten\n",
    "from keras.preprocessing import sequence\n",
    "from keras.models import Sequential\n",
    "from keras.optimizers import Adam\n",
    "from keras.callbacks import ModelCheckpoint\n",
    "from sklearn.preprocessing import MinMaxScaler\n",
    "import numpy as np\n",
    "import tensorflow as tf"
   ]
  },
  {
   "cell_type": "code",
   "execution_count": 3,
   "metadata": {},
   "outputs": [],
   "source": [
    "mid = MidiFile('LSTM/Samples/DPR LIVE-9-NEON.mid') \n",
    "notes = []\n",
    "\n",
    "notes = []\n",
    "for msg in mid:\n",
    "    if not msg.is_meta and msg.channel == 0 and msg.type == 'note_on':\n",
    "        data = msg.bytes()\n",
    "        notes.append(data[1])\n",
    "        \n",
    "scaler = MinMaxScaler(feature_range=(0,1))\n",
    "scaler.fit(np.array(notes).reshape(-1,1))\n",
    "notes = list(scaler.transform(np.array(notes).reshape(-1,1)))\n",
    "\n",
    "# LSTM layers requires that data must have a certain shape\n",
    "# create list of lists fist\n",
    "notes = [list(note) for note in notes]\n",
    "\n",
    "# subsample data for training and prediction\n",
    "X = []\n",
    "y = []\n",
    "# number of notes in a batch\n",
    "n_prev = 30\n",
    "for i in range(len(notes)-n_prev):\n",
    "    X.append(notes[i:i+n_prev])\n",
    "    y.append(notes[i+n_prev])\n",
    "# save a seed to do prediction later\n",
    "X_test = X[-300:]\n",
    "X = X[:-300]\n",
    "y = y[:-300]"
   ]
  },
  {
   "cell_type": "code",
   "execution_count": 7,
   "metadata": {},
   "outputs": [
    {
     "data": {
      "text/plain": [
       "300"
      ]
     },
     "execution_count": 7,
     "metadata": {},
     "output_type": "execute_result"
    }
   ],
   "source": [
    "len(X_test)"
   ]
  },
  {
   "cell_type": "code",
   "execution_count": 17,
   "metadata": {},
   "outputs": [],
   "source": [
    "def Generator():\n",
    "    inputs = tf.keras.layers.Input(shape=[None, 256])\n",
    "    x = LSTM(300, return_sequences=True)(inputs)\n",
    "    x = Dropout(0.5)(x)\n",
    "    x = LSTM(300, return_sequences=True)(inputs)\n",
    "    x = Dropout(0.5)(x)\n",
    "    x = LSTM(300, return_sequences=True)(inputs)\n",
    "    x = Dropout(0.5)(x)\n",
    "    x = LSTM(300, return_sequences=True)(inputs)\n",
    "    x = Dropout(0.5)(x)\n",
    "    x = Dense(300)(x)\n",
    "    \n",
    "    model = tf.keras.Model(inputs = inputs, outputs = x)\n",
    "    \n",
    "    optimizer = Adam(lr=0.001)\n",
    "    model.compile(loss='mse', optimizer=optimizer)\n",
    "    \n",
    "    return model\n",
    "    "
   ]
  },
  {
   "cell_type": "code",
   "execution_count": 15,
   "metadata": {},
   "outputs": [],
   "source": [
    "def Discriminator():\n",
    "    inputs = tf.keras.layers.Input(shape=[None, 300])\n",
    "    x = LSTM(256, input_shape=(300, 1), return_sequences=True)(inputs)\n",
    "    x = Dropout(0.5)(x)\n",
    "    x = LSTM(128, input_shape=(300, 1), return_sequences=True)(x)\n",
    "    x = Dropout(0.6)(x)\n",
    "    x = LSTM(64, input_shape=(300, 1), return_sequences=False)(x)\n",
    "    x = Dropout(0.6)(x)\n",
    "    x = Dense(1, activation='sigmoid')(x)\n",
    "    \n",
    "    model = tf.keras.Model(inputs = inputs, outputs = x)\n",
    "    optimizer = Adam(lr=0.001)\n",
    "    model.compile(loss='mse', optimizer=optimizer)\n",
    "    \n",
    "    return model"
   ]
  },
  {
   "cell_type": "code",
   "execution_count": 18,
   "metadata": {},
   "outputs": [],
   "source": [
    "generator = Generator()"
   ]
  },
  {
   "cell_type": "code",
   "execution_count": 19,
   "metadata": {},
   "outputs": [],
   "source": [
    "discriminator = Discriminator()"
   ]
  },
  {
   "cell_type": "code",
   "execution_count": 20,
   "metadata": {},
   "outputs": [
    {
     "name": "stdout",
     "output_type": "stream",
     "text": [
      "Model: \"model_1\"\n",
      "_________________________________________________________________\n",
      "Layer (type)                 Output Shape              Param #   \n",
      "=================================================================\n",
      "input_4 (InputLayer)         [(None, None, 300)]       0         \n",
      "_________________________________________________________________\n",
      "lstm_6 (LSTM)                (None, None, 256)         570368    \n",
      "_________________________________________________________________\n",
      "dropout_4 (Dropout)          (None, None, 256)         0         \n",
      "_________________________________________________________________\n",
      "lstm_7 (LSTM)                (None, None, 128)         197120    \n",
      "_________________________________________________________________\n",
      "dropout_5 (Dropout)          (None, None, 128)         0         \n",
      "_________________________________________________________________\n",
      "lstm_8 (LSTM)                (None, 64)                49408     \n",
      "_________________________________________________________________\n",
      "dropout_6 (Dropout)          (None, 64)                0         \n",
      "_________________________________________________________________\n",
      "dense_1 (Dense)              (None, 1)                 65        \n",
      "=================================================================\n",
      "Total params: 816,961\n",
      "Trainable params: 816,961\n",
      "Non-trainable params: 0\n",
      "_________________________________________________________________\n"
     ]
    }
   ],
   "source": [
    "discriminator.summary()"
   ]
  },
  {
   "cell_type": "code",
   "execution_count": 21,
   "metadata": {},
   "outputs": [
    {
     "name": "stdout",
     "output_type": "stream",
     "text": [
      "Model: \"model\"\n",
      "_________________________________________________________________\n",
      "Layer (type)                 Output Shape              Param #   \n",
      "=================================================================\n",
      "input_3 (InputLayer)         [(None, None, 256)]       0         \n",
      "_________________________________________________________________\n",
      "lstm_5 (LSTM)                (None, None, 300)         668400    \n",
      "_________________________________________________________________\n",
      "dropout_3 (Dropout)          (None, None, 300)         0         \n",
      "_________________________________________________________________\n",
      "dense (Dense)                (None, None, 300)         90300     \n",
      "=================================================================\n",
      "Total params: 758,700\n",
      "Trainable params: 758,700\n",
      "Non-trainable params: 0\n",
      "_________________________________________________________________\n"
     ]
    }
   ],
   "source": [
    "generator.summary()"
   ]
  },
  {
   "cell_type": "code",
   "execution_count": 22,
   "metadata": {},
   "outputs": [],
   "source": [
    "z_vector = tf.keras.models.load_model('LSTM/Checkpoints/checkpoint_model_05.hdf5')"
   ]
  },
  {
   "cell_type": "code",
   "execution_count": 24,
   "metadata": {},
   "outputs": [
    {
     "name": "stdout",
     "output_type": "stream",
     "text": [
      "Model: \"sequential\"\n",
      "_________________________________________________________________\n",
      "Layer (type)                 Output Shape              Param #   \n",
      "=================================================================\n",
      "lstm (LSTM)                  (None, 30, 256)           264192    \n",
      "_________________________________________________________________\n",
      "dropout (Dropout)            (None, 30, 256)           0         \n",
      "_________________________________________________________________\n",
      "lstm_1 (LSTM)                (None, 30, 128)           197120    \n",
      "_________________________________________________________________\n",
      "dropout_1 (Dropout)          (None, 30, 128)           0         \n",
      "_________________________________________________________________\n",
      "lstm_2 (LSTM)                (None, 64)                49408     \n",
      "_________________________________________________________________\n",
      "dropout_2 (Dropout)          (None, 64)                0         \n",
      "_________________________________________________________________\n",
      "dense (Dense)                (None, 1)                 65        \n",
      "_________________________________________________________________\n",
      "activation (Activation)      (None, 1)                 0         \n",
      "=================================================================\n",
      "Total params: 510,785\n",
      "Trainable params: 510,785\n",
      "Non-trainable params: 0\n",
      "_________________________________________________________________\n"
     ]
    }
   ],
   "source": [
    "z_vector.summary()"
   ]
  },
  {
   "cell_type": "code",
   "execution_count": 25,
   "metadata": {},
   "outputs": [
    {
     "name": "stdout",
     "output_type": "stream",
     "text": [
      "[<tf.Variable 'lstm/lstm_cell_9/kernel:0' shape=(1, 1024) dtype=float32, numpy=\n",
      "array([[-1.0772903 , -1.7238122 , -1.2400359 , ..., -1.9222625 ,\n",
      "         0.25038102, -1.6269035 ]], dtype=float32)>, <tf.Variable 'lstm/lstm_cell_9/recurrent_kernel:0' shape=(256, 1024) dtype=float32, numpy=\n",
      "array([[-0.9175383 , -0.4392479 , -0.42765284, ..., -0.38742852,\n",
      "        -0.3573955 , -0.95983607],\n",
      "       [-0.37212878,  0.23964775,  0.11669407, ...,  0.18710889,\n",
      "        -0.3872067 , -0.30723503],\n",
      "       [ 0.3669471 ,  0.10972648,  0.14692955, ...,  0.04475506,\n",
      "         0.6147749 ,  0.2743186 ],\n",
      "       ...,\n",
      "       [ 0.42170334,  0.04790486,  0.19503649, ...,  0.13895783,\n",
      "         0.55621827,  0.40762404],\n",
      "       [ 0.8026749 ,  0.252006  ,  0.84107524, ..., -0.04176012,\n",
      "         0.18649848,  0.8964987 ],\n",
      "       [-0.1712545 , -0.08709455,  0.03232609, ..., -0.03480397,\n",
      "        -0.19071646, -0.16793591]], dtype=float32)>, <tf.Variable 'lstm/lstm_cell_9/bias:0' shape=(1024,) dtype=float32, numpy=\n",
      "array([-0.89378566, -1.0837114 , -0.92042047, ..., -0.91867703,\n",
      "       -0.26566705, -0.7663139 ], dtype=float32)>]\n"
     ]
    }
   ],
   "source": [
    "print(z_vector.layers[0].weights)"
   ]
  },
  {
   "cell_type": "code",
   "execution_count": 32,
   "metadata": {},
   "outputs": [],
   "source": [
    "z_vector_weights = z_vector.layers[0].weights"
   ]
  },
  {
   "cell_type": "code",
   "execution_count": null,
   "metadata": {},
   "outputs": [],
   "source": []
  }
 ],
 "metadata": {
  "kernelspec": {
   "display_name": "Python 3",
   "language": "python",
   "name": "python3"
  },
  "language_info": {
   "codemirror_mode": {
    "name": "ipython",
    "version": 3
   },
   "file_extension": ".py",
   "mimetype": "text/x-python",
   "name": "python",
   "nbconvert_exporter": "python",
   "pygments_lexer": "ipython3",
   "version": "3.8.5"
  }
 },
 "nbformat": 4,
 "nbformat_minor": 4
}
